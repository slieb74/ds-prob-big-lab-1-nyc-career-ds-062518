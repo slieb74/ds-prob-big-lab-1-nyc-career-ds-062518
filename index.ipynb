{
 "cells": [
  {
   "cell_type": "markdown",
   "metadata": {},
   "source": [
    "## Probability Theory final lab"
   ]
  },
  {
   "cell_type": "markdown",
   "metadata": {},
   "source": [
    "Probability theory is everywhere! In this big lab on probability theory, you'll practice all the concepts learned in the probability theory section.\n",
    "\n",
    "As a field trip, the Flatiron School Data Science Immersive students are going to The Bronx Zoo. This is the setting of this lab."
   ]
  },
  {
   "cell_type": "markdown",
   "metadata": {},
   "source": [
    "## Exercise 1: birthday problem"
   ]
  },
  {
   "cell_type": "markdown",
   "metadata": {},
   "source": [
    "Everyone is excited about the Zoo visit. The entire group consists of 20 students, 1 lead instructor and 2 TAs. One of the students is celebrating their birthday today. Now, one of the TA's is wondering what the probability is that at least 2 people who joined the trip have their birthdays on the same day. \n",
    "\n",
    "Hint: you know that just 1 person has their birthday today, so make sure to take this into account in your calculations! You can ignore the notion of a leap year."
   ]
  },
  {
   "cell_type": "markdown",
   "metadata": {},
   "source": [
    "## Solution"
   ]
  },
  {
   "cell_type": "code",
   "execution_count": 36,
   "metadata": {},
   "outputs": [
    {
     "data": {
      "text/plain": [
       "0.47664355367722233"
      ]
     },
     "execution_count": 36,
     "metadata": {},
     "output_type": "execute_result"
    }
   ],
   "source": [
    "import math\n",
    "no_shared_birthdays = (1/364)**22 * (math.factorial(364)/math.factorial(364-22))\n",
    "at_least_two = 1-no_shared_birthdays\n",
    "at_least_two # correct answer: 0.4766435536772232"
   ]
  },
  {
   "cell_type": "markdown",
   "metadata": {},
   "source": [
    "Now, the next thing that we'll ask you to do is wrap this in a function with 2 arguments: $n$ representing the number of days in this case, $n_{people}$ the number of people."
   ]
  },
  {
   "cell_type": "code",
   "execution_count": 55,
   "metadata": {},
   "outputs": [],
   "source": [
    "def birthday(ndays,npeople):\n",
    "    no_shared = (1/ndays)**npeople * (math.factorial(ndays)/math.factorial(ndays-npeople))\n",
    "    return 1 - no_shared"
   ]
  },
  {
   "cell_type": "code",
   "execution_count": 59,
   "metadata": {},
   "outputs": [
    {
     "data": {
      "text/plain": [
       "0.25290131976368635"
      ]
     },
     "execution_count": 59,
     "metadata": {},
     "output_type": "execute_result"
    }
   ],
   "source": [
    "birthday(365,15)"
   ]
  },
  {
   "cell_type": "markdown",
   "metadata": {},
   "source": [
    "Now, use this function to calculate the probability that two people will have birthdays in the same week. We're not sure if there are more birthdays are coming up this week, so make sure to take this into account again."
   ]
  },
  {
   "cell_type": "code",
   "execution_count": 61,
   "metadata": {},
   "outputs": [
    {
     "data": {
      "text/plain": [
       "0.9968952068726301"
      ]
     },
     "execution_count": 61,
     "metadata": {},
     "output_type": "execute_result"
    }
   ],
   "source": [
    "two_each_week = birthday(52,23)\n",
    "two_each_week  # correct answer: 0.996895206"
   ]
  },
  {
   "cell_type": "markdown",
   "metadata": {},
   "source": [
    "As you can see, the probability that two people have birthdays in the same week is almost 100%!"
   ]
  },
  {
   "cell_type": "markdown",
   "metadata": {},
   "source": [
    "## Exercise 2"
   ]
  },
  {
   "cell_type": "markdown",
   "metadata": {},
   "source": [
    "Jane, who is a student of the Flatiron School immersive program, is fascinated by koalas, panda bears and dolphins. Her classmate Albert did some research and estimated that the probability that the there will be koalas at the Bronx Zoo is equal to 70%, the probability that they have panda bears is equal to 40%, and the probability that they will have dolphins is equal to 80%. He also knew that the probability that they have all three of them is 22.4%.\n",
    "\n",
    "- Are these events independent?\n",
    "- What is the probability that they have koalas and dolphins, but no panda bears?\n",
    "- What is the probability that they have koala bears given that they have panda bears?"
   ]
  },
  {
   "cell_type": "markdown",
   "metadata": {},
   "source": [
    "**Are these events independent?**"
   ]
  },
  {
   "cell_type": "code",
   "execution_count": 63,
   "metadata": {},
   "outputs": [
    {
     "data": {
      "text/plain": [
       "0.22399999999999998"
      ]
     },
     "execution_count": 63,
     "metadata": {},
     "output_type": "execute_result"
    }
   ],
   "source": [
    "independent = .7*.4*.8 # you should get to 22.4%, meaning that events are independent\n",
    "independent"
   ]
  },
  {
   "cell_type": "markdown",
   "metadata": {},
   "source": [
    "**What is the probability that they do have koalas and dolphins, but no panda bears?**"
   ]
  },
  {
   "cell_type": "code",
   "execution_count": 64,
   "metadata": {},
   "outputs": [
    {
     "data": {
      "text/plain": [
       "0.336"
      ]
     },
     "execution_count": 64,
     "metadata": {},
     "output_type": "execute_result"
    }
   ],
   "source": [
    "P_no_panda = .7*.6*.8 # 0.336\n",
    "P_no_panda"
   ]
  },
  {
   "cell_type": "markdown",
   "metadata": {},
   "source": [
    "**What is the probability that they have koala bears given that they have panda bears?**"
   ]
  },
  {
   "cell_type": "code",
   "execution_count": 65,
   "metadata": {},
   "outputs": [
    {
     "data": {
      "text/plain": [
       "0.7"
      ]
     },
     "execution_count": 65,
     "metadata": {},
     "output_type": "execute_result"
    }
   ],
   "source": [
    "0.7"
   ]
  },
  {
   "cell_type": "markdown",
   "metadata": {},
   "source": [
    "## Exercise 3"
   ]
  },
  {
   "cell_type": "markdown",
   "metadata": {},
   "source": [
    "The entire Flatiron crew is fascinated by the elephants. In the Bronx zoo, they keep male and female elephants seperately. It is known that female elephants lose their appetite during their early pregnancy. They'll skip 2 our of 10 meals during this period, whereas they'll eat 99% of their meals when they're not pregnant. On average, we know that 10% of the female elephants are pregnant in the Bronx zoo.\n",
    "\n",
    "The Flatiron folks have been watching a particular elephant for a while, and noticed that while she skipped her breakfast, when they fed her again for lunch, she ate it all. \n",
    "\n",
    "What is the probability that this elephant is pregnant?"
   ]
  },
  {
   "cell_type": "markdown",
   "metadata": {},
   "source": [
    "B = prob pregnant\n",
    "O = prob outcome (not eat first, does eat second)\n",
    "\n",
    "$$ P(B \\mid O) = \\dfrac{P(O\\mid B)P(B)}{P(O\\mid B')P(B')+P(O\\mid B)P(B)}$$"
   ]
  },
  {
   "cell_type": "code",
   "execution_count": 66,
   "metadata": {},
   "outputs": [
    {
     "data": {
      "text/plain": [
       "0.6423123243677238"
      ]
     },
     "execution_count": 66,
     "metadata": {},
     "output_type": "execute_result"
    }
   ],
   "source": [
    "numer= .1*.2*.8\n",
    "\n",
    "denom= .1*.2*.8 + .9*.01*.99\n",
    "\n",
    "P_pregnant = numer/denom\n",
    "P_pregnant #prob is 0.6423123"
   ]
  },
  {
   "cell_type": "markdown",
   "metadata": {},
   "source": [
    "## Exercise 4: \n",
    "\n",
    "The Zoo is about to close, and there are 9 species that the group hasn't been able to see yet: \n",
    "4 reptiles (Alligators, lizards, snakes, turtles) and 5 mammals (chimpansees, zebras,  Bengalese tigers, polar bears and lions). Realistically, the group only has time to see five more species. The group decides that everyone can write down their top five. \n",
    "\n",
    "- How many top fives exist? ordering is not important.\n",
    "- how many top fives exist if everyone has to choose 2 reptiles and 3 mammals?\n",
    "- How many top fives exist everyone has to list their animals in decreasing order of importance (species they definitely still want to see first, then second most important second, etc)?\n",
    "- how many top fives exist if everyone has to choose 2 reptiles and 3 mammals, and they are ordered?\n",
    "- How many top fives exist if everyone has to choose 2 reptiles and 3 mammals and they are ordered, but everyone agrees they'll go watch the mammals first, and the reptiles last? "
   ]
  },
  {
   "cell_type": "markdown",
   "metadata": {},
   "source": [
    "**How many top fives exist?**"
   ]
  },
  {
   "cell_type": "code",
   "execution_count": 68,
   "metadata": {},
   "outputs": [
    {
     "data": {
      "text/plain": [
       "126.0"
      ]
     },
     "execution_count": 68,
     "metadata": {},
     "output_type": "execute_result"
    }
   ],
   "source": [
    "# You can import scipy.special or you can make your own functions to perform the right combinatorics\n",
    "import math\n",
    "import scipy.special as prob\n",
    "top_5 = prob.comb(9,5)\n",
    "top_5 #126"
   ]
  },
  {
   "cell_type": "markdown",
   "metadata": {},
   "source": [
    "**how many top fives exist if everyone has to choose 2 reptiles and 3 mammals?**"
   ]
  },
  {
   "cell_type": "code",
   "execution_count": 73,
   "metadata": {},
   "outputs": [
    {
     "data": {
      "text/plain": [
       "60.0"
      ]
     },
     "execution_count": 73,
     "metadata": {},
     "output_type": "execute_result"
    }
   ],
   "source": [
    "top_5_3m = prob.comb(5,3) * prob.comb(4,2)\n",
    "top_5_3m  # 60"
   ]
  },
  {
   "cell_type": "markdown",
   "metadata": {},
   "source": [
    "**how many top fives exist if they are ordered?**"
   ]
  },
  {
   "cell_type": "code",
   "execution_count": 79,
   "metadata": {},
   "outputs": [
    {
     "data": {
      "text/plain": [
       "15120.0"
      ]
     },
     "execution_count": 79,
     "metadata": {},
     "output_type": "execute_result"
    }
   ],
   "source": [
    "top_5_order = prob.perm(9,5)\n",
    "top_5_order # 15120.0"
   ]
  },
  {
   "cell_type": "markdown",
   "metadata": {},
   "source": [
    "**how many top fives exist if everyone has to choose 2 reptiles and 3 mammals, and then order is important?**"
   ]
  },
  {
   "cell_type": "code",
   "execution_count": 77,
   "metadata": {},
   "outputs": [
    {
     "data": {
      "text/plain": [
       "7200.0"
      ]
     },
     "execution_count": 77,
     "metadata": {},
     "output_type": "execute_result"
    }
   ],
   "source": [
    "top_5_3m= prob.comb(4,2) * prob.comb(5,3) * math.factorial(5)\n",
    "top_5_3m # 7200"
   ]
  },
  {
   "cell_type": "markdown",
   "metadata": {},
   "source": [
    "**How many top fives if everyone has to choose 2 reptiles and 3 mammals, order important and watch mammals first?**"
   ]
  },
  {
   "cell_type": "code",
   "execution_count": 80,
   "metadata": {},
   "outputs": [
    {
     "data": {
      "text/plain": [
       "720.0"
      ]
     },
     "execution_count": 80,
     "metadata": {},
     "output_type": "execute_result"
    }
   ],
   "source": [
    "top_5_3m_first= prob.perm(4,2) * prob.perm(5,3)\n",
    "top_5_3m_first # 720"
   ]
  },
  {
   "cell_type": "markdown",
   "metadata": {},
   "source": [
    "Among all those options, the group finally decided that everyone can write down an unordered top five (in whatever species they prefer). If there are 2 or more exact same top 5's, then they'll go watch the top fives with the most votes. If not, they'll randomly choose 5 animals to watch and ignore the top fives.\n",
    "\n",
    "What is the probability that in the end, a random top 5 will be visited?\n",
    "\n"
   ]
  },
  {
   "cell_type": "markdown",
   "metadata": {},
   "source": [
    "This is exactly the same problem as the birthday problem! But you have to do (1-...) again."
   ]
  },
  {
   "cell_type": "code",
   "execution_count": 86,
   "metadata": {},
   "outputs": [
    {
     "data": {
      "text/plain": [
       "0.11772303234775927"
      ]
     },
     "execution_count": 86,
     "metadata": {},
     "output_type": "execute_result"
    }
   ],
   "source": [
    "top_5\n",
    "\n",
    "p_rand_top_5 = 1-birthday(126,23)\n",
    "\n",
    "p_rand_top_5  #11.77"
   ]
  },
  {
   "cell_type": "code",
   "execution_count": null,
   "metadata": {},
   "outputs": [],
   "source": []
  }
 ],
 "metadata": {
  "kernelspec": {
   "display_name": "Python 3",
   "language": "python",
   "name": "python3"
  },
  "language_info": {
   "codemirror_mode": {
    "name": "ipython",
    "version": 3
   },
   "file_extension": ".py",
   "mimetype": "text/x-python",
   "name": "python",
   "nbconvert_exporter": "python",
   "pygments_lexer": "ipython3",
   "version": "3.6.4"
  }
 },
 "nbformat": 4,
 "nbformat_minor": 2
}
